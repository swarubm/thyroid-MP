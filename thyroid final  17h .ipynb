{
  "cells": [
    {
      "cell_type": "markdown",
      "metadata": {
        "id": "view-in-github",
        "colab_type": "text"
      },
      "source": [
        "<a href=\"https://colab.research.google.com/github/swarubm/thyroid-MP/blob/main/thyroid%20final%20%2017h%20.ipynb\" target=\"_parent\"><img src=\"https://colab.research.google.com/assets/colab-badge.svg\" alt=\"Open In Colab\"/></a>"
      ]
    },
    {
      "cell_type": "code",
      "source": [
        "import pandas as pd\n",
        "import numpy as np\n"
      ],
      "metadata": {
        "id": "bMLdnIXS828N"
      },
      "execution_count": 1,
      "outputs": []
    },
    {
      "cell_type": "code",
      "source": [
        "# Load the dataset\n",
        "df = pd.read_csv('/content/hypothyroid (3).csv')\n",
        "print(df.shape)             # 3772 rows, 30 columns"
      ],
      "metadata": {
        "id": "FZsN49mI9EyD",
        "outputId": "6f9c7a4d-1550-48e3-9cdf-89d1e1ab8f36",
        "colab": {
          "base_uri": "https://localhost:8080/"
        }
      },
      "execution_count": 3,
      "outputs": [
        {
          "output_type": "stream",
          "name": "stdout",
          "text": [
            "(3772, 30)\n"
          ]
        }
      ]
    },
    {
      "cell_type": "code",
      "source": [
        "df.head()"
      ],
      "metadata": {
        "id": "r04JaDA887m0",
        "outputId": "bf4fce10-5608-4b05-c1d9-d3b2e7986afe",
        "colab": {
          "base_uri": "https://localhost:8080/",
          "height": 255
        }
      },
      "execution_count": 9,
      "outputs": [
        {
          "output_type": "execute_result",
          "data": {
            "text/plain": [
              "  age  sex  on_thyroxine  query_on_thyroxine  on_antithyroid_medication  sick  \\\n",
              "0  41  0.0             0                   0                          0     0   \n",
              "1  23  0.0             0                   0                          0     0   \n",
              "2  46  1.0             0                   0                          0     0   \n",
              "3  70  0.0             1                   0                          0     0   \n",
              "4  70  0.0             0                   0                          0     0   \n",
              "\n",
              "   pregnant  thyroid_surgery  I131_treatment  query_hypothyroid  ...  goitre  \\\n",
              "0         0                0               0                  0  ...       0   \n",
              "1         0                0               0                  0  ...       0   \n",
              "2         0                0               0                  0  ...       0   \n",
              "3         0                0               0                  0  ...       0   \n",
              "4         0                0               0                  0  ...       0   \n",
              "\n",
              "   tumor  hypopituitary  psych   TSH   T3  TT4   T4U  FTI     Class  \n",
              "0      0              0      0   1.3  2.5  125  1.14  109  negative  \n",
              "1      0              0      0   4.1    2  102   NaN  NaN  negative  \n",
              "2      0              0      0  0.98  NaN  109  0.91  120  negative  \n",
              "3      0              0      0  0.16  1.9  175   NaN  NaN  negative  \n",
              "4      0              0      0  0.72  1.2   61  0.87   70  negative  \n",
              "\n",
              "[5 rows x 22 columns]"
            ],
            "text/html": [
              "\n",
              "  <div id=\"df-38b4d91b-9bc4-4972-98fa-fc0b0e38c2df\" class=\"colab-df-container\">\n",
              "    <div>\n",
              "<style scoped>\n",
              "    .dataframe tbody tr th:only-of-type {\n",
              "        vertical-align: middle;\n",
              "    }\n",
              "\n",
              "    .dataframe tbody tr th {\n",
              "        vertical-align: top;\n",
              "    }\n",
              "\n",
              "    .dataframe thead th {\n",
              "        text-align: right;\n",
              "    }\n",
              "</style>\n",
              "<table border=\"1\" class=\"dataframe\">\n",
              "  <thead>\n",
              "    <tr style=\"text-align: right;\">\n",
              "      <th></th>\n",
              "      <th>age</th>\n",
              "      <th>sex</th>\n",
              "      <th>on_thyroxine</th>\n",
              "      <th>query_on_thyroxine</th>\n",
              "      <th>on_antithyroid_medication</th>\n",
              "      <th>sick</th>\n",
              "      <th>pregnant</th>\n",
              "      <th>thyroid_surgery</th>\n",
              "      <th>I131_treatment</th>\n",
              "      <th>query_hypothyroid</th>\n",
              "      <th>...</th>\n",
              "      <th>goitre</th>\n",
              "      <th>tumor</th>\n",
              "      <th>hypopituitary</th>\n",
              "      <th>psych</th>\n",
              "      <th>TSH</th>\n",
              "      <th>T3</th>\n",
              "      <th>TT4</th>\n",
              "      <th>T4U</th>\n",
              "      <th>FTI</th>\n",
              "      <th>Class</th>\n",
              "    </tr>\n",
              "  </thead>\n",
              "  <tbody>\n",
              "    <tr>\n",
              "      <th>0</th>\n",
              "      <td>41</td>\n",
              "      <td>0.0</td>\n",
              "      <td>0</td>\n",
              "      <td>0</td>\n",
              "      <td>0</td>\n",
              "      <td>0</td>\n",
              "      <td>0</td>\n",
              "      <td>0</td>\n",
              "      <td>0</td>\n",
              "      <td>0</td>\n",
              "      <td>...</td>\n",
              "      <td>0</td>\n",
              "      <td>0</td>\n",
              "      <td>0</td>\n",
              "      <td>0</td>\n",
              "      <td>1.3</td>\n",
              "      <td>2.5</td>\n",
              "      <td>125</td>\n",
              "      <td>1.14</td>\n",
              "      <td>109</td>\n",
              "      <td>negative</td>\n",
              "    </tr>\n",
              "    <tr>\n",
              "      <th>1</th>\n",
              "      <td>23</td>\n",
              "      <td>0.0</td>\n",
              "      <td>0</td>\n",
              "      <td>0</td>\n",
              "      <td>0</td>\n",
              "      <td>0</td>\n",
              "      <td>0</td>\n",
              "      <td>0</td>\n",
              "      <td>0</td>\n",
              "      <td>0</td>\n",
              "      <td>...</td>\n",
              "      <td>0</td>\n",
              "      <td>0</td>\n",
              "      <td>0</td>\n",
              "      <td>0</td>\n",
              "      <td>4.1</td>\n",
              "      <td>2</td>\n",
              "      <td>102</td>\n",
              "      <td>NaN</td>\n",
              "      <td>NaN</td>\n",
              "      <td>negative</td>\n",
              "    </tr>\n",
              "    <tr>\n",
              "      <th>2</th>\n",
              "      <td>46</td>\n",
              "      <td>1.0</td>\n",
              "      <td>0</td>\n",
              "      <td>0</td>\n",
              "      <td>0</td>\n",
              "      <td>0</td>\n",
              "      <td>0</td>\n",
              "      <td>0</td>\n",
              "      <td>0</td>\n",
              "      <td>0</td>\n",
              "      <td>...</td>\n",
              "      <td>0</td>\n",
              "      <td>0</td>\n",
              "      <td>0</td>\n",
              "      <td>0</td>\n",
              "      <td>0.98</td>\n",
              "      <td>NaN</td>\n",
              "      <td>109</td>\n",
              "      <td>0.91</td>\n",
              "      <td>120</td>\n",
              "      <td>negative</td>\n",
              "    </tr>\n",
              "    <tr>\n",
              "      <th>3</th>\n",
              "      <td>70</td>\n",
              "      <td>0.0</td>\n",
              "      <td>1</td>\n",
              "      <td>0</td>\n",
              "      <td>0</td>\n",
              "      <td>0</td>\n",
              "      <td>0</td>\n",
              "      <td>0</td>\n",
              "      <td>0</td>\n",
              "      <td>0</td>\n",
              "      <td>...</td>\n",
              "      <td>0</td>\n",
              "      <td>0</td>\n",
              "      <td>0</td>\n",
              "      <td>0</td>\n",
              "      <td>0.16</td>\n",
              "      <td>1.9</td>\n",
              "      <td>175</td>\n",
              "      <td>NaN</td>\n",
              "      <td>NaN</td>\n",
              "      <td>negative</td>\n",
              "    </tr>\n",
              "    <tr>\n",
              "      <th>4</th>\n",
              "      <td>70</td>\n",
              "      <td>0.0</td>\n",
              "      <td>0</td>\n",
              "      <td>0</td>\n",
              "      <td>0</td>\n",
              "      <td>0</td>\n",
              "      <td>0</td>\n",
              "      <td>0</td>\n",
              "      <td>0</td>\n",
              "      <td>0</td>\n",
              "      <td>...</td>\n",
              "      <td>0</td>\n",
              "      <td>0</td>\n",
              "      <td>0</td>\n",
              "      <td>0</td>\n",
              "      <td>0.72</td>\n",
              "      <td>1.2</td>\n",
              "      <td>61</td>\n",
              "      <td>0.87</td>\n",
              "      <td>70</td>\n",
              "      <td>negative</td>\n",
              "    </tr>\n",
              "  </tbody>\n",
              "</table>\n",
              "<p>5 rows × 22 columns</p>\n",
              "</div>\n",
              "    <div class=\"colab-df-buttons\">\n",
              "\n",
              "  <div class=\"colab-df-container\">\n",
              "    <button class=\"colab-df-convert\" onclick=\"convertToInteractive('df-38b4d91b-9bc4-4972-98fa-fc0b0e38c2df')\"\n",
              "            title=\"Convert this dataframe to an interactive table.\"\n",
              "            style=\"display:none;\">\n",
              "\n",
              "  <svg xmlns=\"http://www.w3.org/2000/svg\" height=\"24px\" viewBox=\"0 -960 960 960\">\n",
              "    <path d=\"M120-120v-720h720v720H120Zm60-500h600v-160H180v160Zm220 220h160v-160H400v160Zm0 220h160v-160H400v160ZM180-400h160v-160H180v160Zm440 0h160v-160H620v160ZM180-180h160v-160H180v160Zm440 0h160v-160H620v160Z\"/>\n",
              "  </svg>\n",
              "    </button>\n",
              "\n",
              "  <style>\n",
              "    .colab-df-container {\n",
              "      display:flex;\n",
              "      gap: 12px;\n",
              "    }\n",
              "\n",
              "    .colab-df-convert {\n",
              "      background-color: #E8F0FE;\n",
              "      border: none;\n",
              "      border-radius: 50%;\n",
              "      cursor: pointer;\n",
              "      display: none;\n",
              "      fill: #1967D2;\n",
              "      height: 32px;\n",
              "      padding: 0 0 0 0;\n",
              "      width: 32px;\n",
              "    }\n",
              "\n",
              "    .colab-df-convert:hover {\n",
              "      background-color: #E2EBFA;\n",
              "      box-shadow: 0px 1px 2px rgba(60, 64, 67, 0.3), 0px 1px 3px 1px rgba(60, 64, 67, 0.15);\n",
              "      fill: #174EA6;\n",
              "    }\n",
              "\n",
              "    .colab-df-buttons div {\n",
              "      margin-bottom: 4px;\n",
              "    }\n",
              "\n",
              "    [theme=dark] .colab-df-convert {\n",
              "      background-color: #3B4455;\n",
              "      fill: #D2E3FC;\n",
              "    }\n",
              "\n",
              "    [theme=dark] .colab-df-convert:hover {\n",
              "      background-color: #434B5C;\n",
              "      box-shadow: 0px 1px 3px 1px rgba(0, 0, 0, 0.15);\n",
              "      filter: drop-shadow(0px 1px 2px rgba(0, 0, 0, 0.3));\n",
              "      fill: #FFFFFF;\n",
              "    }\n",
              "  </style>\n",
              "\n",
              "    <script>\n",
              "      const buttonEl =\n",
              "        document.querySelector('#df-38b4d91b-9bc4-4972-98fa-fc0b0e38c2df button.colab-df-convert');\n",
              "      buttonEl.style.display =\n",
              "        google.colab.kernel.accessAllowed ? 'block' : 'none';\n",
              "\n",
              "      async function convertToInteractive(key) {\n",
              "        const element = document.querySelector('#df-38b4d91b-9bc4-4972-98fa-fc0b0e38c2df');\n",
              "        const dataTable =\n",
              "          await google.colab.kernel.invokeFunction('convertToInteractive',\n",
              "                                                    [key], {});\n",
              "        if (!dataTable) return;\n",
              "\n",
              "        const docLinkHtml = 'Like what you see? Visit the ' +\n",
              "          '<a target=\"_blank\" href=https://colab.research.google.com/notebooks/data_table.ipynb>data table notebook</a>'\n",
              "          + ' to learn more about interactive tables.';\n",
              "        element.innerHTML = '';\n",
              "        dataTable['output_type'] = 'display_data';\n",
              "        await google.colab.output.renderOutput(dataTable, element);\n",
              "        const docLink = document.createElement('div');\n",
              "        docLink.innerHTML = docLinkHtml;\n",
              "        element.appendChild(docLink);\n",
              "      }\n",
              "    </script>\n",
              "  </div>\n",
              "\n",
              "\n",
              "    <div id=\"df-3acffa03-1a69-4c42-98bc-40f1814a0fb7\">\n",
              "      <button class=\"colab-df-quickchart\" onclick=\"quickchart('df-3acffa03-1a69-4c42-98bc-40f1814a0fb7')\"\n",
              "                title=\"Suggest charts\"\n",
              "                style=\"display:none;\">\n",
              "\n",
              "<svg xmlns=\"http://www.w3.org/2000/svg\" height=\"24px\"viewBox=\"0 0 24 24\"\n",
              "     width=\"24px\">\n",
              "    <g>\n",
              "        <path d=\"M19 3H5c-1.1 0-2 .9-2 2v14c0 1.1.9 2 2 2h14c1.1 0 2-.9 2-2V5c0-1.1-.9-2-2-2zM9 17H7v-7h2v7zm4 0h-2V7h2v10zm4 0h-2v-4h2v4z\"/>\n",
              "    </g>\n",
              "</svg>\n",
              "      </button>\n",
              "\n",
              "<style>\n",
              "  .colab-df-quickchart {\n",
              "      --bg-color: #E8F0FE;\n",
              "      --fill-color: #1967D2;\n",
              "      --hover-bg-color: #E2EBFA;\n",
              "      --hover-fill-color: #174EA6;\n",
              "      --disabled-fill-color: #AAA;\n",
              "      --disabled-bg-color: #DDD;\n",
              "  }\n",
              "\n",
              "  [theme=dark] .colab-df-quickchart {\n",
              "      --bg-color: #3B4455;\n",
              "      --fill-color: #D2E3FC;\n",
              "      --hover-bg-color: #434B5C;\n",
              "      --hover-fill-color: #FFFFFF;\n",
              "      --disabled-bg-color: #3B4455;\n",
              "      --disabled-fill-color: #666;\n",
              "  }\n",
              "\n",
              "  .colab-df-quickchart {\n",
              "    background-color: var(--bg-color);\n",
              "    border: none;\n",
              "    border-radius: 50%;\n",
              "    cursor: pointer;\n",
              "    display: none;\n",
              "    fill: var(--fill-color);\n",
              "    height: 32px;\n",
              "    padding: 0;\n",
              "    width: 32px;\n",
              "  }\n",
              "\n",
              "  .colab-df-quickchart:hover {\n",
              "    background-color: var(--hover-bg-color);\n",
              "    box-shadow: 0 1px 2px rgba(60, 64, 67, 0.3), 0 1px 3px 1px rgba(60, 64, 67, 0.15);\n",
              "    fill: var(--button-hover-fill-color);\n",
              "  }\n",
              "\n",
              "  .colab-df-quickchart-complete:disabled,\n",
              "  .colab-df-quickchart-complete:disabled:hover {\n",
              "    background-color: var(--disabled-bg-color);\n",
              "    fill: var(--disabled-fill-color);\n",
              "    box-shadow: none;\n",
              "  }\n",
              "\n",
              "  .colab-df-spinner {\n",
              "    border: 2px solid var(--fill-color);\n",
              "    border-color: transparent;\n",
              "    border-bottom-color: var(--fill-color);\n",
              "    animation:\n",
              "      spin 1s steps(1) infinite;\n",
              "  }\n",
              "\n",
              "  @keyframes spin {\n",
              "    0% {\n",
              "      border-color: transparent;\n",
              "      border-bottom-color: var(--fill-color);\n",
              "      border-left-color: var(--fill-color);\n",
              "    }\n",
              "    20% {\n",
              "      border-color: transparent;\n",
              "      border-left-color: var(--fill-color);\n",
              "      border-top-color: var(--fill-color);\n",
              "    }\n",
              "    30% {\n",
              "      border-color: transparent;\n",
              "      border-left-color: var(--fill-color);\n",
              "      border-top-color: var(--fill-color);\n",
              "      border-right-color: var(--fill-color);\n",
              "    }\n",
              "    40% {\n",
              "      border-color: transparent;\n",
              "      border-right-color: var(--fill-color);\n",
              "      border-top-color: var(--fill-color);\n",
              "    }\n",
              "    60% {\n",
              "      border-color: transparent;\n",
              "      border-right-color: var(--fill-color);\n",
              "    }\n",
              "    80% {\n",
              "      border-color: transparent;\n",
              "      border-right-color: var(--fill-color);\n",
              "      border-bottom-color: var(--fill-color);\n",
              "    }\n",
              "    90% {\n",
              "      border-color: transparent;\n",
              "      border-bottom-color: var(--fill-color);\n",
              "    }\n",
              "  }\n",
              "</style>\n",
              "\n",
              "      <script>\n",
              "        async function quickchart(key) {\n",
              "          const quickchartButtonEl =\n",
              "            document.querySelector('#' + key + ' button');\n",
              "          quickchartButtonEl.disabled = true;  // To prevent multiple clicks.\n",
              "          quickchartButtonEl.classList.add('colab-df-spinner');\n",
              "          try {\n",
              "            const charts = await google.colab.kernel.invokeFunction(\n",
              "                'suggestCharts', [key], {});\n",
              "          } catch (error) {\n",
              "            console.error('Error during call to suggestCharts:', error);\n",
              "          }\n",
              "          quickchartButtonEl.classList.remove('colab-df-spinner');\n",
              "          quickchartButtonEl.classList.add('colab-df-quickchart-complete');\n",
              "        }\n",
              "        (() => {\n",
              "          let quickchartButtonEl =\n",
              "            document.querySelector('#df-3acffa03-1a69-4c42-98bc-40f1814a0fb7 button');\n",
              "          quickchartButtonEl.style.display =\n",
              "            google.colab.kernel.accessAllowed ? 'block' : 'none';\n",
              "        })();\n",
              "      </script>\n",
              "    </div>\n",
              "\n",
              "    </div>\n",
              "  </div>\n"
            ],
            "application/vnd.google.colaboratory.intrinsic+json": {
              "type": "dataframe",
              "variable_name": "df"
            }
          },
          "metadata": {},
          "execution_count": 9
        }
      ]
    },
    {
      "cell_type": "code",
      "source": [
        "print(df.shape)             # 3772 rows, 30 columns\n",
        "print(df['Class'].value_counts())  # Check class distribution"
      ],
      "metadata": {
        "id": "9WiB3Q-YDOPp",
        "outputId": "a8943f02-5b6d-4213-8260-141b21de1ff2",
        "colab": {
          "base_uri": "https://localhost:8080/"
        }
      },
      "execution_count": 5,
      "outputs": [
        {
          "output_type": "stream",
          "name": "stdout",
          "text": [
            "(3772, 30)\n",
            "Class\n",
            "negative                   3481\n",
            "compensated_hypothyroid     194\n",
            "primary_hypothyroid          95\n",
            "secondary_hypothyroid         2\n",
            "Name: count, dtype: int64\n"
          ]
        }
      ]
    },
    {
      "cell_type": "code",
      "source": [
        "# Replace '?' with NaN and drop columns with all or many missing values\n",
        "df = df.replace('?', np.nan)\n",
        "df.drop(columns=['TBG_measured','TBG','referral_source','TSH_measured','T3_measured','TT4_measured','T4U_measured','FTI_measured'], inplace=True)"
      ],
      "metadata": {
        "id": "vjSjSqq8DTWF",
        "outputId": "15d45ecc-3d49-43b6-9fb0-9b55cd52cd7b",
        "colab": {
          "base_uri": "https://localhost:8080/"
        }
      },
      "execution_count": 6,
      "outputs": [
        {
          "output_type": "stream",
          "name": "stderr",
          "text": [
            "/tmp/ipython-input-2464049046.py:2: FutureWarning: Downcasting behavior in `replace` is deprecated and will be removed in a future version. To retain the old behavior, explicitly call `result.infer_objects(copy=False)`. To opt-in to the future behavior, set `pd.set_option('future.no_silent_downcasting', True)`\n",
            "  df = df.replace('?', np.nan)\n"
          ]
        }
      ]
    },
    {
      "cell_type": "code",
      "source": [
        "# Map binary features 't'/'f' to 1/0\n",
        "binary_cols = ['on_thyroxine','query_on_thyroxine','on_antithyroid_medication','sick',\n",
        "               'pregnant','thyroid_surgery','I131_treatment','query_hypothyroid',\n",
        "               'query_hyperthyroid','lithium','goitre','tumor','hypopituitary','psych']"
      ],
      "metadata": {
        "id": "WhnLDRwbDbdJ"
      },
      "execution_count": 7,
      "outputs": []
    },
    {
      "cell_type": "code",
      "source": [
        "for col in binary_cols:\n",
        "    df[col] = df[col].map({'t':1,'f':0})\n",
        "# Convert sex to numeric (M=1, F=0), imputing missing with mode\n",
        "df['sex'] = df['sex'].map({'M':1,'F':0})\n",
        "df['sex'].fillna(df['sex'].mode()[0], inplace=True)"
      ],
      "metadata": {
        "id": "9hRlY47zDgM6",
        "outputId": "e2f37e46-cef8-4bf6-eb97-edf3c83cc393",
        "colab": {
          "base_uri": "https://localhost:8080/"
        }
      },
      "execution_count": 8,
      "outputs": [
        {
          "output_type": "stream",
          "name": "stderr",
          "text": [
            "/tmp/ipython-input-3922911502.py:5: FutureWarning: A value is trying to be set on a copy of a DataFrame or Series through chained assignment using an inplace method.\n",
            "The behavior will change in pandas 3.0. This inplace method will never work because the intermediate object on which we are setting values always behaves as a copy.\n",
            "\n",
            "For example, when doing 'df[col].method(value, inplace=True)', try using 'df.method({col: value}, inplace=True)' or df[col] = df[col].method(value) instead, to perform the operation inplace on the original object.\n",
            "\n",
            "\n",
            "  df['sex'].fillna(df['sex'].mode()[0], inplace=True)\n"
          ]
        }
      ]
    },
    {
      "cell_type": "code",
      "source": [
        "# Convert numeric columns to float\n",
        "num_cols = ['age','TSH','T3','TT4','T4U','FTI']\n",
        "for col in num_cols:\n",
        "    df[col] = pd.to_numeric(df[col], errors='coerce')"
      ],
      "metadata": {
        "id": "G5ZpRHZPDlm5"
      },
      "execution_count": 10,
      "outputs": []
    },
    {
      "cell_type": "code",
      "source": [
        "# Drop rows still having missing target or too many missing features (if any)\n",
        "df.dropna(subset=['Class'], inplace=True)"
      ],
      "metadata": {
        "id": "FxyZWWxsDpgX"
      },
      "execution_count": 12,
      "outputs": []
    },
    {
      "cell_type": "code",
      "source": [
        "# Create binary target: 0 = negative (no disease), 1 = any hypothyroid condition\n",
        "df['disease'] = (df['Class'] != 'negative').astype(int)\n",
        "df.drop(columns=['Class'], inplace=True)\n",
        "print(\"Shape after cleaning:\", df.shape)\n",
        "print(df.isnull().sum())  # Check remaining missing values\n"
      ],
      "metadata": {
        "id": "YcHONmgz8zpa",
        "outputId": "1f2e2e9b-e84f-46af-a72f-775059a73fa9",
        "colab": {
          "base_uri": "https://localhost:8080/"
        }
      },
      "execution_count": 13,
      "outputs": [
        {
          "output_type": "stream",
          "name": "stdout",
          "text": [
            "Shape after cleaning: (3772, 22)\n",
            "age                            1\n",
            "sex                            0\n",
            "on_thyroxine                   0\n",
            "query_on_thyroxine             0\n",
            "on_antithyroid_medication      0\n",
            "sick                           0\n",
            "pregnant                       0\n",
            "thyroid_surgery                0\n",
            "I131_treatment                 0\n",
            "query_hypothyroid              0\n",
            "query_hyperthyroid             0\n",
            "lithium                        0\n",
            "goitre                         0\n",
            "tumor                          0\n",
            "hypopituitary                  0\n",
            "psych                          0\n",
            "TSH                          369\n",
            "T3                           769\n",
            "TT4                          231\n",
            "T4U                          387\n",
            "FTI                          385\n",
            "disease                        0\n",
            "dtype: int64\n"
          ]
        }
      ]
    },
    {
      "cell_type": "code",
      "source": [
        "import seaborn as sns\n",
        "import matplotlib.pyplot as plt"
      ],
      "metadata": {
        "id": "WBsfaFiyDwn9"
      },
      "execution_count": 14,
      "outputs": []
    },
    {
      "cell_type": "code",
      "source": [
        "# Class imbalance\n",
        "print(df['disease'].value_counts())"
      ],
      "metadata": {
        "id": "_J_G0mjDD0ls",
        "outputId": "4db2bf99-2206-409c-8bb9-d80e3e4489f6",
        "colab": {
          "base_uri": "https://localhost:8080/"
        }
      },
      "execution_count": 17,
      "outputs": [
        {
          "output_type": "stream",
          "name": "stdout",
          "text": [
            "disease\n",
            "0    3481\n",
            "1     291\n",
            "Name: count, dtype: int64\n"
          ]
        }
      ]
    },
    {
      "cell_type": "code",
      "source": [
        "# Feature statistics\n",
        "#print(df.describe())\n",
        "print(df.drop(['age', 'sex'], axis=1).describe())\n"
      ],
      "metadata": {
        "id": "iTGg4WNSD34F",
        "outputId": "a9061459-51d6-4118-de71-3ee847fdccd8",
        "colab": {
          "base_uri": "https://localhost:8080/"
        }
      },
      "execution_count": 19,
      "outputs": [
        {
          "output_type": "stream",
          "name": "stdout",
          "text": [
            "       on_thyroxine  query_on_thyroxine  on_antithyroid_medication  \\\n",
            "count   3772.000000         3772.000000                3772.000000   \n",
            "mean       0.123012            0.013256                   0.011400   \n",
            "std        0.328494            0.114382                   0.106174   \n",
            "min        0.000000            0.000000                   0.000000   \n",
            "25%        0.000000            0.000000                   0.000000   \n",
            "50%        0.000000            0.000000                   0.000000   \n",
            "75%        0.000000            0.000000                   0.000000   \n",
            "max        1.000000            1.000000                   1.000000   \n",
            "\n",
            "              sick     pregnant  thyroid_surgery  I131_treatment  \\\n",
            "count  3772.000000  3772.000000      3772.000000     3772.000000   \n",
            "mean      0.038971     0.014051         0.014051        0.015642   \n",
            "std       0.193552     0.117716         0.117716        0.124101   \n",
            "min       0.000000     0.000000         0.000000        0.000000   \n",
            "25%       0.000000     0.000000         0.000000        0.000000   \n",
            "50%       0.000000     0.000000         0.000000        0.000000   \n",
            "75%       0.000000     0.000000         0.000000        0.000000   \n",
            "max       1.000000     1.000000         1.000000        1.000000   \n",
            "\n",
            "       query_hypothyroid  query_hyperthyroid      lithium       goitre  \\\n",
            "count        3772.000000         3772.000000  3772.000000  3772.000000   \n",
            "mean            0.062036            0.062831     0.004772     0.009014   \n",
            "std             0.241253            0.242692     0.068924     0.094525   \n",
            "min             0.000000            0.000000     0.000000     0.000000   \n",
            "25%             0.000000            0.000000     0.000000     0.000000   \n",
            "50%             0.000000            0.000000     0.000000     0.000000   \n",
            "75%             0.000000            0.000000     0.000000     0.000000   \n",
            "max             1.000000            1.000000     1.000000     1.000000   \n",
            "\n",
            "             tumor  hypopituitary        psych          TSH           T3  \\\n",
            "count  3772.000000    3772.000000  3772.000000  3403.000000  3003.000000   \n",
            "mean      0.025451       0.000265     0.048780     5.086766     2.013500   \n",
            "std       0.157510       0.016282     0.215437    24.521470     0.827434   \n",
            "min       0.000000       0.000000     0.000000     0.005000     0.050000   \n",
            "25%       0.000000       0.000000     0.000000     0.500000     1.600000   \n",
            "50%       0.000000       0.000000     0.000000     1.400000     2.000000   \n",
            "75%       0.000000       0.000000     0.000000     2.700000     2.400000   \n",
            "max       1.000000       1.000000     1.000000   530.000000    10.600000   \n",
            "\n",
            "               TT4          T4U          FTI      disease  \n",
            "count  3541.000000  3385.000000  3387.000000  3772.000000  \n",
            "mean    108.319345     0.995000   110.469649     0.077147  \n",
            "std      35.604248     0.195457    33.089698     0.266861  \n",
            "min       2.000000     0.250000     2.000000     0.000000  \n",
            "25%      88.000000     0.880000    93.000000     0.000000  \n",
            "50%     103.000000     0.980000   107.000000     0.000000  \n",
            "75%     124.000000     1.080000   124.000000     0.000000  \n",
            "max     430.000000     2.320000   395.000000     1.000000  \n"
          ]
        }
      ]
    },
    {
      "cell_type": "code",
      "source": [
        "# Check correlation of numeric features\n",
        "corr = df[num_cols + ['TSH','T3','TT4','T4U']].corr()\n",
        "print(\"Correlation matrix:\\n\", corr.round(2))\n"
      ],
      "metadata": {
        "id": "JjPRs7GF9wf2",
        "outputId": "3d1a3be0-43ab-462d-aae4-79c8a73f0234",
        "colab": {
          "base_uri": "https://localhost:8080/"
        }
      },
      "execution_count": 20,
      "outputs": [
        {
          "output_type": "stream",
          "name": "stdout",
          "text": [
            "Correlation matrix:\n",
            "       age   TSH    T3   TT4   T4U   FTI   TSH    T3   TT4   T4U\n",
            "age  1.00 -0.06 -0.24 -0.04 -0.17  0.05 -0.06 -0.24 -0.04 -0.17\n",
            "TSH -0.06  1.00 -0.16 -0.27  0.07 -0.30  1.00 -0.16 -0.27  0.07\n",
            "T3  -0.24 -0.16  1.00  0.56  0.45  0.35 -0.16  1.00  0.56  0.45\n",
            "TT4 -0.04 -0.27  0.56  1.00  0.43  0.79 -0.27  0.56  1.00  0.43\n",
            "T4U -0.17  0.07  0.45  0.43  1.00 -0.17  0.07  0.45  0.43  1.00\n",
            "FTI  0.05 -0.30  0.35  0.79 -0.17  1.00 -0.30  0.35  0.79 -0.17\n",
            "TSH -0.06  1.00 -0.16 -0.27  0.07 -0.30  1.00 -0.16 -0.27  0.07\n",
            "T3  -0.24 -0.16  1.00  0.56  0.45  0.35 -0.16  1.00  0.56  0.45\n",
            "TT4 -0.04 -0.27  0.56  1.00  0.43  0.79 -0.27  0.56  1.00  0.43\n",
            "T4U -0.17  0.07  0.45  0.43  1.00 -0.17  0.07  0.45  0.43  1.00\n"
          ]
        }
      ]
    },
    {
      "cell_type": "code",
      "source": [
        "import seaborn as sns\n",
        "import matplotlib.pyplot as plt\n",
        "\n",
        "plt.figure(figsize=(8,6))\n",
        "sns.heatmap(corr, annot=True, cmap=\"coolwarm\", fmt=\".2f\")\n",
        "plt.title(\"Correlation Heatmap of Numeric Features\")\n",
        "plt.show()\n"
      ],
      "metadata": {
        "id": "jOskMaHYGIE7",
        "outputId": "d90fb0ea-b9de-4913-f87d-b0d93f2dc90c",
        "colab": {
          "base_uri": "https://localhost:8080/",
          "height": 543
        }
      },
      "execution_count": 21,
      "outputs": [
        {
          "output_type": "display_data",
          "data": {
            "text/plain": [
              "<Figure size 800x600 with 2 Axes>"
            ],
            "image/png": "[encoded data removed]"
          },
          "metadata": {}
        }
      ]
    },
    {
      "cell_type": "code",
      "source": [
        "from sklearn.pipeline import Pipeline\n",
        "from sklearn.compose import ColumnTransformer\n",
        "from sklearn.impute import SimpleImputer\n",
        "from sklearn.preprocessing import StandardScaler, OneHotEncoder\n",
        "\n",
        "numeric_features = ['age','TSH','T3','TT4','T4U']\n",
        "numeric_transformer = Pipeline([\n",
        "    ('imputer', SimpleImputer(strategy='mean')),\n",
        "    ('scaler', StandardScaler())\n",
        "])\n",
        "\n",
        "categorical_features = ['sex']\n",
        "categorical_transformer = Pipeline([\n",
        "    ('imputer', SimpleImputer(strategy='most_frequent')),\n",
        "    ('onehot', OneHotEncoder(handle_unknown='ignore'))\n",
        "])\n",
        "\n",
        "preprocessor = ColumnTransformer([\n",
        "    ('num', numeric_transformer, numeric_features),\n",
        "    ('cat', categorical_transformer, categorical_features)\n",
        "])\n"
      ],
      "metadata": {
        "id": "ehRrBh8w91DR"
      },
      "execution_count": 22,
      "outputs": []
    },
    {
      "cell_type": "code",
      "source": [
        "from sklearn.model_selection import train_test_split\n",
        "\n",
        "X = df[numeric_features + ['sex'] + binary_cols]  # features after cleaning\n",
        "y = df['disease']\n",
        "X_train, X_test, y_train, y_test = train_test_split(\n",
        "    X, y, test_size=0.2, random_state=42, stratify=y\n",
        ")\n",
        "print(\"Train set class distribution:\", y_train.value_counts(normalize=True).to_dict())\n",
        "print(\"Test set class distribution:\", y_test.value_counts(normalize=True).to_dict())\n"
      ],
      "metadata": {
        "id": "Cf8bIY9a96mG",
        "outputId": "7a07b2b1-452c-4595-f5f5-0a68f64f9673",
        "colab": {
          "base_uri": "https://localhost:8080/"
        }
      },
      "execution_count": null,
      "outputs": [
        {
          "output_type": "stream",
          "name": "stdout",
          "text": [
            "Train set class distribution: {0: 0.9227709645343056, 1: 0.0772290354656944}\n",
            "Test set class distribution: {0: 0.9231788079470199, 1: 0.07682119205298013}\n"
          ]
        }
      ]
    },
    {
      "cell_type": "code",
      "source": [
        "from sklearn.linear_model import LogisticRegression\n",
        "from sklearn.ensemble import RandomForestClassifier\n",
        "from xgboost import XGBClassifier\n",
        "\n",
        "# Define pipelines\n",
        "pipe_lr = Pipeline([('prep', preprocessor), ('clf', LogisticRegression(max_iter=1000))])\n",
        "pipe_rf = Pipeline([('prep', preprocessor), ('clf', RandomForestClassifier(n_estimators=100, random_state=42))])\n",
        "pipe_xgb = Pipeline([('prep', preprocessor), ('clf', XGBClassifier(use_label_encoder=False, eval_metric='logloss', random_state=42))])\n",
        "\n",
        "# Train models\n",
        "for name, pipe in [(\"Logistic Regression\", pipe_lr),\n",
        "                   (\"Random Forest\", pipe_rf),\n",
        "                   (\"XGBoost\", pipe_xgb)]:\n",
        "    pipe.fit(X_train, y_train)\n",
        "    print(f\"{name} trained.\")\n"
      ],
      "metadata": {
        "id": "iYY_OEQd-Avw",
        "outputId": "45233717-b66f-41d2-e200-11c81a2fe770",
        "colab": {
          "base_uri": "https://localhost:8080/"
        }
      },
      "execution_count": null,
      "outputs": [
        {
          "output_type": "stream",
          "name": "stdout",
          "text": [
            "Logistic Regression trained.\n",
            "Random Forest trained.\n"
          ]
        },
        {
          "output_type": "stream",
          "name": "stderr",
          "text": [
            "/usr/local/lib/python3.11/dist-packages/xgboost/training.py:183: UserWarning: [19:10:03] WARNING: /workspace/src/learner.cc:738: \n",
            "Parameters: { \"use_label_encoder\" } are not used.\n",
            "\n",
            "  bst.update(dtrain, iteration=i, fobj=obj)\n"
          ]
        },
        {
          "output_type": "stream",
          "name": "stdout",
          "text": [
            "XGBoost trained.\n"
          ]
        }
      ]
    },
    {
      "cell_type": "code",
      "source": [
        "from sklearn.pipeline import Pipeline\n",
        "from sklearn.linear_model import LogisticRegression\n",
        "from sklearn.ensemble import RandomForestClassifier, GradientBoostingClassifier\n",
        "from xgboost import XGBClassifier\n",
        "from sklearn.svm import SVC\n",
        "from sklearn.neighbors import KNeighborsClassifier\n",
        "from sklearn.tree import DecisionTreeClassifier\n",
        "from sklearn.naive_bayes import GaussianNB\n",
        "\n",
        "# Existing pipelines\n",
        "pipe_lr = Pipeline([('prep', preprocessor),\n",
        "                    ('clf', LogisticRegression(max_iter=1000, random_state=42))])\n",
        "\n",
        "pipe_rf = Pipeline([('prep', preprocessor),\n",
        "                    ('clf', RandomForestClassifier(n_estimators=100, random_state=42))])\n",
        "\n",
        "pipe_xgb = Pipeline([('prep', preprocessor),\n",
        "                     ('clf', XGBClassifier(use_label_encoder=False,\n",
        "                                           eval_metric='logloss',\n",
        "                                           random_state=42))])\n",
        "\n",
        "# Additional pipelines\n",
        "pipe_svm = Pipeline([('prep', preprocessor),\n",
        "                     ('clf', SVC(probability=True, random_state=42))])\n",
        "\n",
        "pipe_knn = Pipeline([('prep', preprocessor),\n",
        "                     ('clf', KNeighborsClassifier(n_neighbors=5))])\n",
        "\n",
        "pipe_dt = Pipeline([('prep', preprocessor),\n",
        "                    ('clf', DecisionTreeClassifier(random_state=42))])\n",
        "\n",
        "pipe_gb = Pipeline([('prep', preprocessor),\n",
        "                    ('clf', GradientBoostingClassifier(random_state=42))])\n",
        "\n",
        "pipe_nb = Pipeline([('prep', preprocessor),\n",
        "                    ('clf', GaussianNB())])\n",
        "\n",
        "# Collect all pipelines in a dictionary for easy iteration\n",
        "pipelines = {\n",
        "    'Logistic Regression': pipe_lr,\n",
        "    'Random Forest': pipe_rf,\n",
        "    'XGBoost': pipe_xgb,\n",
        "    'SVM': pipe_svm,\n",
        "    'KNN': pipe_knn,\n",
        "    'Decision Tree': pipe_dt,\n",
        "    'Gradient Boosting': pipe_gb,\n",
        "    'Naive Bayes': pipe_nb\n",
        "}\n"
      ],
      "metadata": {
        "id": "OGdDPA9-E1n3"
      },
      "execution_count": null,
      "outputs": []
    },
    {
      "cell_type": "code",
      "source": [
        "from sklearn.metrics import accuracy_score, precision_score, recall_score, f1_score, roc_auc_score, confusion_matrix\n",
        "\n",
        "# Dictionary with all your pipelines\n",
        "models = {\n",
        "    \"LogisticRegression\": pipe_lr,\n",
        "    \"RandomForest\": pipe_rf,\n",
        "    \"XGBoost\": pipe_xgb,\n",
        "    \"SVM\": pipe_svm,\n",
        "    \"KNN\": pipe_knn,\n",
        "    \"DecisionTree\": pipe_dt,\n",
        "    \"GradientBoosting\": pipe_gb,\n",
        "    \"NaiveBayes\": pipe_nb\n",
        "}\n",
        "\n",
        "# Train and evaluate\n",
        "for name, model in models.items():\n",
        "    # Fit on training data\n",
        "    model.fit(X_train, y_train)\n",
        "\n",
        "    # Predictions\n",
        "    y_pred = model.predict(X_test)\n",
        "    y_proba = model.predict_proba(X_test)[:, 1] if hasattr(model, \"predict_proba\") else None\n",
        "\n",
        "    # Evaluation\n",
        "    print(f\"\\n{name} evaluation:\")\n",
        "    print(\" Accuracy:\", accuracy_score(y_test, y_pred))\n",
        "    print(\" Precision:\", precision_score(y_test, y_pred))\n",
        "    print(\" Recall:\", recall_score(y_test, y_pred))\n",
        "    print(\" F1-score:\", f1_score(y_test, y_pred))\n",
        "    if y_proba is not None:\n",
        "        print(\" ROC-AUC:\", roc_auc_score(y_test, y_proba))\n",
        "    else:\n",
        "        print(\" ROC-AUC: Not available (model does not support probability estimates)\")\n",
        "    print(\" Confusion Matrix:\\n\", confusion_matrix(y_test, y_pred))\n"
      ],
      "metadata": {
        "id": "0sLtpAQUFJSW",
        "outputId": "235cfbbb-fddd-40c4-a28d-cca14c5a8b58",
        "colab": {
          "base_uri": "https://localhost:8080/"
        }
      },
      "execution_count": null,
      "outputs": [
        {
          "output_type": "stream",
          "name": "stdout",
          "text": [
            "\n",
            "LogisticRegression evaluation:\n",
            " Accuracy: 0.952317880794702\n",
            " Precision: 0.84375\n",
            " Recall: 0.46551724137931033\n",
            " F1-score: 0.6\n",
            " ROC-AUC: 0.9740266165339138\n",
            " Confusion Matrix:\n",
            " [[692   5]\n",
            " [ 31  27]]\n",
            "\n",
            "RandomForest evaluation:\n",
            " Accuracy: 0.9814569536423841\n",
            " Precision: 0.8235294117647058\n",
            " Recall: 0.9655172413793104\n",
            " F1-score: 0.8888888888888888\n",
            " ROC-AUC: 0.9935932320783654\n",
            " Confusion Matrix:\n",
            " [[685  12]\n",
            " [  2  56]]\n"
          ]
        },
        {
          "output_type": "stream",
          "name": "stderr",
          "text": [
            "/usr/local/lib/python3.11/dist-packages/xgboost/training.py:183: UserWarning: [19:10:06] WARNING: /workspace/src/learner.cc:738: \n",
            "Parameters: { \"use_label_encoder\" } are not used.\n",
            "\n",
            "  bst.update(dtrain, iteration=i, fobj=obj)\n"
          ]
        },
        {
          "output_type": "stream",
          "name": "stdout",
          "text": [
            "\n",
            "XGBoost evaluation:\n",
            " Accuracy: 0.9788079470198675\n",
            " Precision: 0.85\n",
            " Recall: 0.8793103448275862\n",
            " F1-score: 0.864406779661017\n",
            " ROC-AUC: 0.9927274526294958\n",
            " Confusion Matrix:\n",
            " [[688   9]\n",
            " [  7  51]]\n",
            "\n",
            "SVM evaluation:\n",
            " Accuracy: 0.9549668874172186\n",
            " Precision: 0.875\n",
            " Recall: 0.4827586206896552\n",
            " F1-score: 0.6222222222222222\n",
            " ROC-AUC: 0.9895364369465195\n",
            " Confusion Matrix:\n",
            " [[693   4]\n",
            " [ 30  28]]\n",
            "\n",
            "KNN evaluation:\n",
            " Accuracy: 0.9536423841059603\n",
            " Precision: 0.8709677419354839\n",
            " Recall: 0.46551724137931033\n",
            " F1-score: 0.6067415730337079\n",
            " ROC-AUC: 0.8618834413496265\n",
            " Confusion Matrix:\n",
            " [[693   4]\n",
            " [ 31  27]]\n",
            "\n",
            "DecisionTree evaluation:\n",
            " Accuracy: 0.9708609271523179\n",
            " Precision: 0.8103448275862069\n",
            " Recall: 0.8103448275862069\n",
            " F1-score: 0.8103448275862069\n",
            " ROC-AUC: 0.8972814525305497\n",
            " Confusion Matrix:\n",
            " [[686  11]\n",
            " [ 11  47]]\n",
            "\n",
            "GradientBoosting evaluation:\n",
            " Accuracy: 0.9827814569536424\n",
            " Precision: 0.8461538461538461\n",
            " Recall: 0.9482758620689655\n",
            " F1-score: 0.8943089430894309\n",
            " ROC-AUC: 0.9959679414238362\n",
            " Confusion Matrix:\n",
            " [[687  10]\n",
            " [  3  55]]\n",
            "\n",
            "NaiveBayes evaluation:\n",
            " Accuracy: 0.9536423841059603\n",
            " Precision: 0.8709677419354839\n",
            " Recall: 0.46551724137931033\n",
            " F1-score: 0.6067415730337079\n",
            " ROC-AUC: 0.9299584425864543\n",
            " Confusion Matrix:\n",
            " [[693   4]\n",
            " [ 31  27]]\n"
          ]
        }
      ]
    },
    {
      "cell_type": "code",
      "source": [
        "import numpy as np\n",
        "import matplotlib.pyplot as plt\n",
        "\n",
        "# Get feature names after one-hot encoding (sex) and original order\n",
        "ohe = pipe_rf.named_steps['prep'].named_transformers_['cat'].named_steps['onehot']\n",
        "feat_names = numeric_features + list(binary_cols) + ['sex_M']  # sex encoded as one column\n",
        "importances = pipe_rf.named_steps['clf'].feature_importances_\n",
        "indices = np.argsort(importances)[::-1]\n",
        "\n",
        "plt.figure(figsize=(6,4))\n",
        "plt.title(\"Feature importances (Random Forest)\")\n",
        "plt.bar(range(len(importances)), importances[indices], align='center')\n",
        "plt.xticks(range(len(importances)), np.array(feat_names)[indices], rotation=90)\n",
        "plt.tight_layout()\n",
        "plt.show()\n"
      ],
      "metadata": {
        "id": "V7IO34_A-HxX",
        "outputId": "f2528af2-f7bc-4ed4-ad2b-fda9d0021462",
        "colab": {
          "base_uri": "https://localhost:8080/",
          "height": 407
        }
      },
      "execution_count": null,
      "outputs": [
        {
          "output_type": "display_data",
          "data": {
            "text/plain": [
              "<Figure size 600x400 with 1 Axes>"
            ],
            "image/png": "[encoded data removed]"
          },
          "metadata": {}
        }
      ]
    },
    {
      "cell_type": "code",
      "source": [
        "import joblib\n",
        "best_model = pipe_xgb  # suppose XGBoost was best\n",
        "joblib.dump(best_model, 'thyroid_detection_pipeline.joblib')\n",
        "print(\"Pipeline saved to 'thyroid_detection_pipeline.joblib'.\")\n"
      ],
      "metadata": {
        "id": "73kT9YIl-Nsm",
        "outputId": "655e8d8a-0319-4791-c2ad-bc149cf3be23",
        "colab": {
          "base_uri": "https://localhost:8080/"
        }
      },
      "execution_count": null,
      "outputs": [
        {
          "output_type": "stream",
          "name": "stdout",
          "text": [
            "Pipeline saved to 'thyroid_detection_pipeline.joblib'.\n"
          ]
        }
      ]
    },
    {
      "cell_type": "code",
      "source": [
        "from flask import Flask, request, jsonify\n",
        "import joblib\n",
        "import pandas as pd\n",
        "\n",
        "app = Flask(__name__)\n",
        "model = joblib.load('thyroid_detection_pipeline.joblib')  # load saved pipeline\n",
        "\n",
        "@app.route('/predict', methods=['POST'])\n",
        "def predict():\n",
        "    data = request.get_json()  # expects JSON with feature values\n",
        "    df = pd.DataFrame([data])\n",
        "    prediction = model.predict(df)[0]\n",
        "    return jsonify({'prediction': int(prediction)})\n",
        "\n",
        "if __name__ == '__main__':\n",
        "    app.run(port=5000)\n"
      ],
      "metadata": {
        "id": "TwxZ7OdB-RUL",
        "outputId": "f87403d4-df8e-4985-fa40-f6951161289d",
        "colab": {
          "base_uri": "https://localhost:8080/"
        }
      },
      "execution_count": null,
      "outputs": [
        {
          "output_type": "stream",
          "name": "stdout",
          "text": [
            " * Serving Flask app '__main__'\n",
            " * Debug mode: off\n"
          ]
        },
        {
          "output_type": "stream",
          "name": "stderr",
          "text": [
            "INFO:werkzeug:\u001b[31m\u001b[1mWARNING: This is a development server. Do not use it in a production deployment. Use a production WSGI server instead.\u001b[0m\n",
            " * Running on http://127.0.0.1:5000\n",
            "INFO:werkzeug:\u001b[33mPress CTRL+C to quit\u001b[0m\n"
          ]
        }
      ]
    },
    {
      "cell_type": "code",
      "source": [
        "# all in one\n",
        "import pandas as pd\n",
        "import numpy as np\n",
        "# Load the dataset\n",
        "df = pd.read_csv(r'C:\\Users\\swaro\\Downloads\\hypothyroid (3).csv')\n",
        "print(df.shape)             # 3772 rows, 30 columns\n",
        "print(df.shape)             # 3772 rows, 30 columns\n",
        "print(df['Class'].value_counts())  # Check class distribution# Replace '?' with NaN and drop columns with all or many missing values\n",
        "df = df.replace('?', np.nan)\n",
        "df.drop(columns=['TBG_measured','TBG','referral_source','TSH_measured','T3_measured','TT4_measured','T4U_measured','FTI_measured'], inplace=True)\n",
        "\n",
        "# Map binary features 't'/'f' to 1/0\n",
        "binary_cols = ['on_thyroxine','query_on_thyroxine','on_antithyroid_medication','sick',\n",
        "               'pregnant','thyroid_surgery','I131_treatment','query_hypothyroid',\n",
        "               'query_hyperthyroid','lithium','goitre','tumor','hypopituitary','psych']\n",
        "for col in binary_cols:\n",
        "    df[col] = df[col].map({'t':1,'f':0})\n",
        "# Convert sex to numeric (M=1, F=0), imputing missing with mode\n",
        "df['sex'] = df['sex'].map({'M':1,'F':0})\n",
        "df['sex'].fillna(df['sex'].mode()[0], inplace=True)\n",
        "\n",
        "# Convert numeric columns to float\n",
        "num_cols = ['age','TSH','T3','TT4','T4U','FTI']\n",
        "for col in num_cols:\n",
        "    df[col] = pd.to_numeric(df[col], errors='coerce')\n",
        "\n",
        "# Drop rows still having missing target or too many missing features (if any)\n",
        "df.dropna(subset=['Class'], inplace=True)\n",
        "\n",
        "# Create binary target: 0 = negative (no disease), 1 = any hypothyroid condition\n",
        "df['disease'] = (df['Class'] != 'negative').astype(int)\n",
        "df.drop(columns=['Class'], inplace=True)\n",
        "print(\"Shape after cleaning:\", df.shape)\n",
        "print(df.isnull().sum())  # Check remaining missing values\n",
        "import seaborn as sns\n",
        "import matplotlib.pyplot as plt\n",
        "\n",
        "# Class imbalance\n",
        "print(df['disease'].value_counts())\n",
        "# Feature statistics\n",
        "print(df.describe())\n",
        "# Check correlation of numeric features\n",
        "corr = df[num_cols + ['TSH','T3','TT4','T4U']].corr()\n",
        "print(\"Correlation matrix:\\n\", corr.round(2))\n",
        "from sklearn.pipeline import Pipeline\n",
        "from sklearn.compose import ColumnTransformer\n",
        "from sklearn.impute import SimpleImputer\n",
        "from sklearn.preprocessing import StandardScaler, OneHotEncoder\n",
        "\n",
        "numeric_features = ['age','TSH','T3','TT4','T4U']\n",
        "numeric_transformer = Pipeline([\n",
        "    ('imputer', SimpleImputer(strategy='mean')),\n",
        "    ('scaler', StandardScaler())\n",
        "])\n",
        "\n",
        "categorical_features = ['sex']\n",
        "categorical_transformer = Pipeline([\n",
        "    ('imputer', SimpleImputer(strategy='most_frequent')),\n",
        "    ('onehot', OneHotEncoder(handle_unknown='ignore'))\n",
        "])\n",
        "\n",
        "preprocessor = ColumnTransformer([\n",
        "    ('num', numeric_transformer, numeric_features),\n",
        "    ('cat', categorical_transformer, categorical_features)\n",
        "])\n",
        "from sklearn.model_selection import train_test_split\n",
        "\n",
        "X = df[numeric_features + ['sex'] + binary_cols]  # features after cleaning\n",
        "y = df['disease']\n",
        "X_train, X_test, y_train, y_test = train_test_split(\n",
        "    X, y, test_size=0.2, random_state=42, stratify=y\n",
        ")\n",
        "print(\"Train set class distribution:\", y_train.value_counts(normalize=True).to_dict())\n",
        "print(\"Test set class distribution:\", y_test.value_counts(normalize=True).to_dict())\n",
        "from sklearn.pipeline import Pipeline\n",
        "from sklearn.linear_model import LogisticRegression\n",
        "from sklearn.ensemble import RandomForestClassifier, GradientBoostingClassifier\n",
        "from xgboost import XGBClassifier\n",
        "from sklearn.svm import SVC\n",
        "from sklearn.neighbors import KNeighborsClassifier\n",
        "from sklearn.tree import DecisionTreeClassifier\n",
        "from sklearn.naive_bayes import GaussianNB\n",
        "\n",
        "# Existing pipelines\n",
        "pipe_lr = Pipeline([('prep', preprocessor),\n",
        "                    ('clf', LogisticRegression(max_iter=1000, random_state=42))])\n",
        "\n",
        "pipe_rf = Pipeline([('prep', preprocessor),\n",
        "                    ('clf', RandomForestClassifier(n_estimators=100, random_state=42))])\n",
        "\n",
        "pipe_xgb = Pipeline([('prep', preprocessor),\n",
        "                     ('clf', XGBClassifier(use_label_encoder=False,\n",
        "                                           eval_metric='logloss',\n",
        "                                           random_state=42))])\n",
        "\n",
        "# Additional pipelines\n",
        "pipe_svm = Pipeline([('prep', preprocessor),\n",
        "                     ('clf', SVC(probability=True, random_state=42))])\n",
        "\n",
        "pipe_knn = Pipeline([('prep', preprocessor),\n",
        "                     ('clf', KNeighborsClassifier(n_neighbors=5))])\n",
        "\n",
        "pipe_dt = Pipeline([('prep', preprocessor),\n",
        "                    ('clf', DecisionTreeClassifier(random_state=42))])\n",
        "\n",
        "pipe_gb = Pipeline([('prep', preprocessor),\n",
        "                    ('clf', GradientBoostingClassifier(random_state=42))])\n",
        "\n",
        "pipe_nb = Pipeline([('prep', preprocessor),\n",
        "                    ('clf', GaussianNB())])\n",
        "\n",
        "# Collect all pipelines in a dictionary for easy iteration\n",
        "pipelines = {\n",
        "    'Logistic Regression': pipe_lr,\n",
        "    'Random Forest': pipe_rf,\n",
        "    'XGBoost': pipe_xgb,\n",
        "    'SVM': pipe_svm,\n",
        "    'KNN': pipe_knn,\n",
        "    'Decision Tree': pipe_dt,\n",
        "    'Gradient Boosting': pipe_gb,\n",
        "    'Naive Bayes': pipe_nb\n",
        "}\n",
        "from sklearn.metrics import accuracy_score, precision_score, recall_score, f1_score, roc_auc_score, confusion_matrix\n",
        "\n",
        "# Dictionary with all your pipelines\n",
        "models = {\n",
        "    \"LogisticRegression\": pipe_lr,\n",
        "    \"RandomForest\": pipe_rf,\n",
        "    \"XGBoost\": pipe_xgb,\n",
        "    \"SVM\": pipe_svm,\n",
        "    \"KNN\": pipe_knn,\n",
        "    \"DecisionTree\": pipe_dt,\n",
        "    \"GradientBoosting\": pipe_gb,\n",
        "    \"NaiveBayes\": pipe_nb\n",
        "}\n",
        "\n",
        "# Train and evaluate\n",
        "for name, model in models.items():\n",
        "    # Fit on training data\n",
        "    model.fit(X_train, y_train)\n",
        "\n",
        "    # Predictions\n",
        "    y_pred = model.predict(X_test)\n",
        "    y_proba = model.predict_proba(X_test)[:, 1] if hasattr(model, \"predict_proba\") else None\n",
        "\n",
        "    # Evaluation\n",
        "    print(f\"\\n{name} evaluation:\")\n",
        "    print(\" Accuracy:\", accuracy_score(y_test, y_pred))\n",
        "    print(\" Precision:\", precision_score(y_test, y_pred))\n",
        "    print(\" Recall:\", recall_score(y_test, y_pred))\n",
        "    print(\" F1-score:\", f1_score(y_test, y_pred))\n",
        "    if y_proba is not None:\n",
        "        print(\" ROC-AUC:\", roc_auc_score(y_test, y_proba))\n",
        "    else:\n",
        "        print(\" ROC-AUC: Not available (model does not support probability estimates)\")\n",
        "    print(\" Confusion Matrix:\\n\", confusion_matrix(y_test, y_pred))\n",
        "import numpy as np\n",
        "import matplotlib.pyplot as plt\n",
        "\n",
        "# Get feature names after one-hot encoding (sex) and original order\n",
        "ohe = pipe_rf.named_steps['prep'].named_transformers_['cat'].named_steps['onehot']\n",
        "feat_names = numeric_features + list(binary_cols) + ['sex_M']  # sex encoded as one column\n",
        "importances = pipe_rf.named_steps['clf'].feature_importances_\n",
        "indices = np.argsort(importances)[::-1]\n",
        "\n",
        "plt.figure(figsize=(6,4))\n",
        "plt.title(\"Feature importances (Random Forest)\")\n",
        "plt.bar(range(len(importances)), importances[indices], align='center')\n",
        "plt.xticks(range(len(importances)), np.array(feat_names)[indices], rotation=90)\n",
        "plt.tight_layout()\n",
        "plt.show()\n",
        "import joblib\n",
        "best_model = pipe_xgb  # suppose XGBoost was best\n",
        "joblib.dump(best_model, 'thyroid_detection_pipeline.joblib')\n",
        "print(\"Pipeline saved to 'thyroid_detection_pipeline.joblib'.\")\n",
        "\n"
      ],
      "metadata": {
        "id": "fKKwKdNcNM42"
      },
      "execution_count": null,
      "outputs": []
    }
  ],
  "metadata": {
    "colab": {
      "name": "Welcome To Colab",
      "provenance": [],
      "include_colab_link": true
    },
    "kernelspec": {
      "display_name": "Python 3",
      "name": "python3"
    }
  },
  "nbformat": 4,
  "nbformat_minor": 0
}